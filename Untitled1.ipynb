{
 "cells": [
  {
   "cell_type": "code",
   "execution_count": 2,
   "id": "88f85363",
   "metadata": {},
   "outputs": [],
   "source": [
    "import sqlite3\n",
    "import pandas as pd\n"
   ]
  },
  {
   "cell_type": "code",
   "execution_count": null,
   "id": "664e832a",
   "metadata": {},
   "outputs": [],
   "source": [
    "# Connect to the SQLite database\n",
    "conn = sqlite3.connect('bgg_.db')\n",
    "cur = conn.cursor()\n",
    "\n",
    "# Get the list of game_ids\n",
    "cur.execute(\"SELECT id as id_ FROM games\")\n",
    "game_id_list = [num[0] for num in cur.fetchall()]\n",
    "\n",
    "# Create the game_master table\n",
    "cur.execute(\"DROP TABLE IF EXISTS game_master\")\n",
    "cur.execute('''CREATE TABLE game_master AS SELECT * FROM game_info WHERE 0''')\n",
    "\n",
    "# Get the column names from games_polls table\n",
    "cur.execute(\"PRAGMA table_info(games_polls)\")\n",
    "games_polls_columns = [column[1] for column in cur.fetchall() if column[1] != 'game_id']\n",
    "\n",
    "# Add the columns from games_polls to game_master table\n",
    "for column in games_polls_columns:\n",
    "    cur.execute(f\"ALTER TABLE game_master ADD COLUMN `{column}` TEXT\")\n",
    "\n",
    "# Get the column names from games_categories table\n",
    "cur.execute(\"PRAGMA table_info(games_categories)\")\n",
    "games_categories_columns = [column[1] for column in cur.fetchall() if column[1] != 'game_id']\n",
    "\n",
    "# Add the columns from games_categories to game_master table\n",
    "for column in games_categories_columns:\n",
    "    cur.execute(f\"ALTER TABLE game_master ADD COLUMN `{column}` TEXT\")\n",
    "\n",
    "# Get the column names from games_ratings table\n",
    "cur.execute(\"PRAGMA table_info(games_ratings)\")\n",
    "games_ratings_columns = [column[1] for column in cur.fetchall() if column[1] != 'game_id']\n",
    "\n",
    "# Add the columns from games_ratings to game_master table\n",
    "for column in games_ratings_columns:\n",
    "    cur.execute(f\"ALTER TABLE game_master ADD COLUMN `{column}` TEXT\")\n",
    "\n",
    "# Get data from game_info table\n",
    "game_info_df = pd.read_sql_query(\"SELECT * FROM game_info\", conn)\n",
    "\n",
    "# Merge the dataframes on game_id/id_\n",
    "master_df = game_info_df.copy()\n",
    "\n",
    "# Merge games_polls data\n",
    "for column in games_polls_columns:\n",
    "    query = f\"SELECT game_id, `{column}` FROM games_polls\"\n",
    "    df = pd.read_sql_query(query, conn)\n",
    "    master_df = pd.merge(master_df, df, on='game_id', how='left')\n",
    "\n",
    "# Merge games_categories data\n",
    "for column in games_categories_columns:\n",
    "    query = f\"SELECT game_id, `{column}` FROM games_categories\"\n",
    "    df = pd.read_sql_query(query, conn)\n",
    "    master_df = pd.merge(master_df, df, on='game_id', how='left')\n",
    "\n",
    "# Merge games_ratings data\n",
    "for column in games_ratings_columns:\n",
    "    query = f\"SELECT game_id, `{column}` FROM games_ratings\"\n",
    "    df = pd.read_sql_query(query, conn)\n",
    "    master_df = pd.merge(master_df, df, on='game_id', how='left')\n",
    "\n",
    "# Insert the merged dataframe into the game_master table\n",
    "master_df.to_sql('game_master', conn, if_exists='replace', index=False)\n",
    "\n",
    "# Commit the changes and close the connection\n",
    "conn.commit()\n",
    "conn.close()\n"
   ]
  },
  {
   "cell_type": "code",
   "execution_count": null,
   "id": "31630ace",
   "metadata": {},
   "outputs": [],
   "source": []
  }
 ],
 "metadata": {
  "kernelspec": {
   "display_name": "Python 3 (ipykernel)",
   "language": "python",
   "name": "python3"
  },
  "language_info": {
   "codemirror_mode": {
    "name": "ipython",
    "version": 3
   },
   "file_extension": ".py",
   "mimetype": "text/x-python",
   "name": "python",
   "nbconvert_exporter": "python",
   "pygments_lexer": "ipython3",
   "version": "3.9.13"
  }
 },
 "nbformat": 4,
 "nbformat_minor": 5
}
