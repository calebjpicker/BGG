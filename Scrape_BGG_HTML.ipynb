{
 "cells": [
  {
   "cell_type": "code",
   "execution_count": null,
   "id": "7bbc3818",
   "metadata": {},
   "outputs": [],
   "source": [
    "# https://www.dataquest.io/blog/python-api-tutorial/\n",
    "# https://github.com/MarshallKrakauer/BGGAnalysis/blob/main/DataCreationFiles/Scrape_Top_1000_Games.ipynb\n",
    "\n",
    "# Response codes and their meanings\n",
    "# 200: Everything went okay, and the result has been returned (if any).\n",
    "# 301: The server is redirecting you to a different endpoint. This can happen when a company switches domain names, or an endpoint name is changed.\n",
    "# 400: The server thinks you made a bad request. This can happen when you don’t send along the right data, among other things.\n",
    "# 401: The server thinks you’re not authenticated. Many APIs require login ccredentials, so this happens when you don’t send the right credentials to access an API.\n",
    "# 403: The resource you’re trying to access is forbidden: you don’t have the right perlessons to see it.\n",
    "# 404: The resource you tried to access wasn’t found on the server.\n",
    "# 503: The server is not ready to handle the request."
   ]
  },
  {
   "cell_type": "code",
   "execution_count": 178,
   "id": "1fad832f",
   "metadata": {},
   "outputs": [],
   "source": [
    "import requests\n",
    "from bs4 import BeautifulSoup\n",
    "import re\n",
    "import pandas as pd\n",
    "from tqdm import tqdm\n",
    "import time"
   ]
  },
  {
   "cell_type": "code",
   "execution_count": 184,
   "id": "f6e3b638",
   "metadata": {},
   "outputs": [],
   "source": [
    "# Script works but BGG only limits HTML scraping of 2000 games.  Therefore, I'm going to try an XML version.\n",
    "# XML version is not as straightforward either, limits to one 3500 results using xmlapi2/search\n",
    "# I'm going back to HTML to scrape game ids with a 5 second pause between pages."
   ]
  },
  {
   "cell_type": "code",
   "execution_count": 214,
   "id": "93d29139",
   "metadata": {},
   "outputs": [],
   "source": [
    "def scrape_bgg_game_ids(page_num=1):\n",
    "    # Define global dictionary to store game_ids and associated information\n",
    "    global id_dict\n",
    "      \n",
    "    # Define variables for dynamic board game searching\n",
    "    page_num = str(page_num)\n",
    "    \n",
    "    start_url = 'https://boardgamegeek.com/browse/boardgame/page/{0}?sort=rank&sortdir=asc'.format(page_num)\n",
    "    \n",
    "    try:\n",
    "        # Send a GET request to fetch the XML data\n",
    "        response = requests.get(start_url)\n",
    "        response.raise_for_status()  # Raise an exception if request fails\n",
    "    except requests.exceptions.RequestException as e:\n",
    "        print('Error:', e)\n",
    "        return []\n",
    "    \n",
    "    # Parse the XML data using BeautifulSoup\n",
    "    soup = BeautifulSoup(response.text, 'html.parser')\n",
    "    \n",
    "    rank_table = soup.find_all(\"tr\",attrs={\"id\": \"row_\"})\n",
    "    \n",
    "    for idx, elem in enumerate(rank_table):\n",
    "        \n",
    "        # Get the main info on a game from start_url\n",
    "        links = elem.find_all(\"a\",{'class': 'primary'})\n",
    "        \n",
    "        # Get the game's url\n",
    "        url = links[0]['href']\n",
    "        \n",
    "        # Get the game_id\n",
    "        game_id = re.findall(r'/(?P<digits>[0-9]+)/', url)[0]\n",
    "        \n",
    "        # Get the title of the game\n",
    "        url = url.replace('/boardgame/', '')\n",
    "        url = url.replace(game_id, '')\n",
    "        url = url.replace('/', '')\n",
    "        url = url.replace('-','_')\n",
    "        \n",
    "        # Get the release date\n",
    "        release_year = elem.find_all('span')\n",
    "        try:\n",
    "            release_year = release_year[0].contents\n",
    "            release_year = re.findall(r'[0-9]+', str(release_year))[0]\n",
    "        except IndexError:\n",
    "            release_year = 'n/a'        \n",
    "        \n",
    "        # Get the Geek Rating\n",
    "        ratings = elem.find_all(\"td\",{'class': 'collection_bggrating'})\n",
    "        try:\n",
    "            geek_rating = ratings[0].contents\n",
    "            geek_rating = geek_rating[0].replace('\\n', '').replace('\\t', '').strip()\n",
    "            geek_rating = float(geek_rating)\n",
    "        except IndexError:\n",
    "            geek_rating = 'n/a'         \n",
    "        \n",
    "        # Get the Avg Rating\n",
    "        try:\n",
    "            avg_rating = ratings[1].contents\n",
    "            avg_rating = avg_rating[0].replace('\\n', '').replace('\\t', '').strip()\n",
    "            avg_rating = float(avg_rating)\n",
    "        except IndexError:\n",
    "            avg_rating = 'n/a'\n",
    "        \n",
    "        # Get Num Voters\n",
    "        try:\n",
    "            num_voters = ratings[2].contents\n",
    "            num_voters = num_voters[0].replace('\\n', '').replace('\\t', '').strip()\n",
    "            num_voters = float(num_voters)\n",
    "        except IndexError:\n",
    "            num_voters = 'n/a'\n",
    "       \n",
    "        # Put all extracted values into a dictionary\n",
    "        id_dict.append([game_id, url, release_year,geek_rating,avg_rating,num_voters])"
   ]
  },
  {
   "cell_type": "code",
   "execution_count": 215,
   "id": "ea438128",
   "metadata": {},
   "outputs": [
    {
     "name": "stderr",
     "output_type": "stream",
     "text": [
      "  0%|                                                                               | 2/1456 [00:12<2:25:18,  6.00s/it]"
     ]
    },
    {
     "name": "stdout",
     "output_type": "stream",
     "text": [
      "Error: HTTPSConnectionPool(host='boardgamegeek.com', port=443): Max retries exceeded with url: /browse/boardgame/page/3?sort=rank&sortdir=asc (Caused by NewConnectionError('<urllib3.connection.HTTPSConnection object at 0x00000215B4E323A0>: Failed to establish a new connection: [WinError 10060] A connection attempt failed because the connected party did not properly respond after a period of time, or established connection failed because connected host has failed to respond'))\n"
     ]
    },
    {
     "name": "stderr",
     "output_type": "stream",
     "text": [
      "  1%|▊                                                                             | 15/1456 [01:58<2:39:58,  6.66s/it]"
     ]
    },
    {
     "name": "stdout",
     "output_type": "stream",
     "text": [
      "Error: HTTPSConnectionPool(host='boardgamegeek.com', port=443): Max retries exceeded with url: /browse/boardgame/page/16?sort=rank&sortdir=asc (Caused by NewConnectionError('<urllib3.connection.HTTPSConnection object at 0x00000215B4EC90D0>: Failed to establish a new connection: [WinError 10060] A connection attempt failed because the connected party did not properly respond after a period of time, or established connection failed because connected host has failed to respond'))\n"
     ]
    },
    {
     "name": "stderr",
     "output_type": "stream",
     "text": [
      "100%|████████████████████████████████████████████████████████████████████████████| 1456/1456 [2:09:55<00:00,  5.35s/it]\n"
     ]
    }
   ],
   "source": [
    "# Scrape 1455 pages\n",
    "id_dict=[] # Dictionary to store game_ids and associated information\n",
    "last_page = 1457\n",
    "\n",
    "for i in tqdm(range(1,last_page)):\n",
    "    scrape_bgg_game_ids(i)\n",
    "    time.sleep(5)    # Pause for 5 seconds between iterations"
   ]
  },
  {
   "cell_type": "code",
   "execution_count": 216,
   "id": "6fcff664",
   "metadata": {},
   "outputs": [
    {
     "data": {
      "text/plain": [
       "1800"
      ]
     },
     "execution_count": 216,
     "metadata": {},
     "output_type": "execute_result"
    }
   ],
   "source": [
    "id_dict\n",
    "len(id_dict)"
   ]
  },
  {
   "cell_type": "code",
   "execution_count": 217,
   "id": "ec57fe61",
   "metadata": {},
   "outputs": [],
   "source": [
    "df = pd.DataFrame(id_dict, columns = ['game_id', 'title', 'release_year','geek_rating','avg_rating','num_voters'])"
   ]
  },
  {
   "cell_type": "code",
   "execution_count": 218,
   "id": "98490f99",
   "metadata": {},
   "outputs": [
    {
     "data": {
      "text/html": [
       "<div>\n",
       "<style scoped>\n",
       "    .dataframe tbody tr th:only-of-type {\n",
       "        vertical-align: middle;\n",
       "    }\n",
       "\n",
       "    .dataframe tbody tr th {\n",
       "        vertical-align: top;\n",
       "    }\n",
       "\n",
       "    .dataframe thead th {\n",
       "        text-align: right;\n",
       "    }\n",
       "</style>\n",
       "<table border=\"1\" class=\"dataframe\">\n",
       "  <thead>\n",
       "    <tr style=\"text-align: right;\">\n",
       "      <th></th>\n",
       "      <th>game_id</th>\n",
       "      <th>title</th>\n",
       "      <th>release_year</th>\n",
       "      <th>geek_rating</th>\n",
       "      <th>avg_rating</th>\n",
       "      <th>num_voters</th>\n",
       "    </tr>\n",
       "  </thead>\n",
       "  <tbody>\n",
       "    <tr>\n",
       "      <th>0</th>\n",
       "      <td>224517</td>\n",
       "      <td>brass_birmingham</td>\n",
       "      <td>2018</td>\n",
       "      <td>8.423</td>\n",
       "      <td>8.61</td>\n",
       "      <td>38856.0</td>\n",
       "    </tr>\n",
       "    <tr>\n",
       "      <th>1</th>\n",
       "      <td>161936</td>\n",
       "      <td>pandemic_legacy_season_1</td>\n",
       "      <td>2015</td>\n",
       "      <td>8.389</td>\n",
       "      <td>8.53</td>\n",
       "      <td>50720.0</td>\n",
       "    </tr>\n",
       "    <tr>\n",
       "      <th>2</th>\n",
       "      <td>174430</td>\n",
       "      <td>gloomhaven</td>\n",
       "      <td>2017</td>\n",
       "      <td>8.386</td>\n",
       "      <td>8.62</td>\n",
       "      <td>58562.0</td>\n",
       "    </tr>\n",
       "    <tr>\n",
       "      <th>3</th>\n",
       "      <td>342942</td>\n",
       "      <td>ark_nova</td>\n",
       "      <td>2021</td>\n",
       "      <td>8.302</td>\n",
       "      <td>8.53</td>\n",
       "      <td>31488.0</td>\n",
       "    </tr>\n",
       "    <tr>\n",
       "      <th>4</th>\n",
       "      <td>233078</td>\n",
       "      <td>twilight_imperium_fourth_edition</td>\n",
       "      <td>2017</td>\n",
       "      <td>8.242</td>\n",
       "      <td>8.62</td>\n",
       "      <td>20993.0</td>\n",
       "    </tr>\n",
       "    <tr>\n",
       "      <th>...</th>\n",
       "      <td>...</td>\n",
       "      <td>...</td>\n",
       "      <td>...</td>\n",
       "      <td>...</td>\n",
       "      <td>...</td>\n",
       "      <td>...</td>\n",
       "    </tr>\n",
       "    <tr>\n",
       "      <th>1795</th>\n",
       "      <td>156496</td>\n",
       "      <td>march_ants</td>\n",
       "      <td>2015</td>\n",
       "      <td>6.181</td>\n",
       "      <td>7.17</td>\n",
       "      <td>1444.0</td>\n",
       "    </tr>\n",
       "    <tr>\n",
       "      <th>1796</th>\n",
       "      <td>320718</td>\n",
       "      <td>hidden_leaders</td>\n",
       "      <td>2022</td>\n",
       "      <td>6.181</td>\n",
       "      <td>6.90</td>\n",
       "      <td>2241.0</td>\n",
       "    </tr>\n",
       "    <tr>\n",
       "      <th>1797</th>\n",
       "      <td>12589</td>\n",
       "      <td>razzia</td>\n",
       "      <td>2004</td>\n",
       "      <td>6.180</td>\n",
       "      <td>6.85</td>\n",
       "      <td>1962.0</td>\n",
       "    </tr>\n",
       "    <tr>\n",
       "      <th>1798</th>\n",
       "      <td>253664</td>\n",
       "      <td>taco_cat_goat_cheese_pizza</td>\n",
       "      <td>2018</td>\n",
       "      <td>6.180</td>\n",
       "      <td>6.67</td>\n",
       "      <td>3840.0</td>\n",
       "    </tr>\n",
       "    <tr>\n",
       "      <th>1799</th>\n",
       "      <td>7858</td>\n",
       "      <td>ardennes_44_battle_bulge</td>\n",
       "      <td>2003</td>\n",
       "      <td>6.180</td>\n",
       "      <td>8.01</td>\n",
       "      <td>786.0</td>\n",
       "    </tr>\n",
       "  </tbody>\n",
       "</table>\n",
       "<p>1800 rows × 6 columns</p>\n",
       "</div>"
      ],
      "text/plain": [
       "     game_id                             title release_year  geek_rating  \\\n",
       "0     224517                  brass_birmingham         2018        8.423   \n",
       "1     161936          pandemic_legacy_season_1         2015        8.389   \n",
       "2     174430                        gloomhaven         2017        8.386   \n",
       "3     342942                          ark_nova         2021        8.302   \n",
       "4     233078  twilight_imperium_fourth_edition         2017        8.242   \n",
       "...      ...                               ...          ...          ...   \n",
       "1795  156496                        march_ants         2015        6.181   \n",
       "1796  320718                    hidden_leaders         2022        6.181   \n",
       "1797   12589                            razzia         2004        6.180   \n",
       "1798  253664        taco_cat_goat_cheese_pizza         2018        6.180   \n",
       "1799    7858          ardennes_44_battle_bulge         2003        6.180   \n",
       "\n",
       "      avg_rating  num_voters  \n",
       "0           8.61     38856.0  \n",
       "1           8.53     50720.0  \n",
       "2           8.62     58562.0  \n",
       "3           8.53     31488.0  \n",
       "4           8.62     20993.0  \n",
       "...          ...         ...  \n",
       "1795        7.17      1444.0  \n",
       "1796        6.90      2241.0  \n",
       "1797        6.85      1962.0  \n",
       "1798        6.67      3840.0  \n",
       "1799        8.01       786.0  \n",
       "\n",
       "[1800 rows x 6 columns]"
      ]
     },
     "execution_count": 218,
     "metadata": {},
     "output_type": "execute_result"
    }
   ],
   "source": [
    "df"
   ]
  },
  {
   "cell_type": "code",
   "execution_count": null,
   "id": "ccb6dc47",
   "metadata": {},
   "outputs": [],
   "source": []
  },
  {
   "cell_type": "code",
   "execution_count": null,
   "id": "43089f89",
   "metadata": {},
   "outputs": [],
   "source": []
  },
  {
   "cell_type": "code",
   "execution_count": null,
   "id": "ac4a170b",
   "metadata": {},
   "outputs": [],
   "source": []
  }
 ],
 "metadata": {
  "kernelspec": {
   "display_name": "Python 3 (ipykernel)",
   "language": "python",
   "name": "python3"
  },
  "language_info": {
   "codemirror_mode": {
    "name": "ipython",
    "version": 3
   },
   "file_extension": ".py",
   "mimetype": "text/x-python",
   "name": "python",
   "nbconvert_exporter": "python",
   "pygments_lexer": "ipython3",
   "version": "3.9.13"
  }
 },
 "nbformat": 4,
 "nbformat_minor": 5
}
