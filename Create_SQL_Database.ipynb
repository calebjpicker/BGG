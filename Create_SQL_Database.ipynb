{
 "cells": [
  {
   "cell_type": "code",
   "execution_count": 35,
   "id": "47ee7eea",
   "metadata": {},
   "outputs": [],
   "source": [
    "import sqlite3\n",
    "import json\n",
    "import pandas as pd\n",
    "\n",
    "#This creates a connection to the SQLite database file bgg.db. If bgg.db does not exist, SQLite and Python will create it.\n",
    "con = sqlite3.connect('bgg_.db') \n",
    "# This creates a cursor object. You can use the cursor to execute SQL statements.\n",
    "cur = con.cursor()"
   ]
  },
  {
   "cell_type": "code",
   "execution_count": 36,
   "id": "fb770896",
   "metadata": {
    "scrolled": true
   },
   "outputs": [
    {
     "data": {
      "text/plain": [
       "<sqlite3.Cursor at 0x1e48fa27730>"
      ]
     },
     "execution_count": 36,
     "metadata": {},
     "output_type": "execute_result"
    }
   ],
   "source": [
    "# Create table with game_id and game_name\n",
    "cur.execute('''CREATE TABLE games (\n",
    "    id INTEGER PRIMARY KEY,\n",
    "    name TEXT)''')"
   ]
  },
  {
   "cell_type": "code",
   "execution_count": 37,
   "id": "a8513394",
   "metadata": {},
   "outputs": [
    {
     "data": {
      "text/plain": [
       "<sqlite3.Cursor at 0x1e48fa27730>"
      ]
     },
     "execution_count": 37,
     "metadata": {},
     "output_type": "execute_result"
    }
   ],
   "source": [
    "# Load all games csv file to load into SQL table\n",
    "df = pd.read_csv('all_game_ids.csv')\n",
    "col_list = []\n",
    "\n",
    "for i in range(len(df)):\n",
    "    cols = int(df.loc[i,'game_id']),str(df.loc[i,'game_name'])\n",
    "    col_list.append(cols)\n",
    "    \n",
    "cur.executemany(\"INSERT INTO games values (?, ?)\",col_list)"
   ]
  },
  {
   "cell_type": "code",
   "execution_count": 38,
   "id": "aa782b00",
   "metadata": {},
   "outputs": [],
   "source": [
    "con.commit()\n",
    "con.close()"
   ]
  },
  {
   "cell_type": "code",
   "execution_count": null,
   "id": "90047e72",
   "metadata": {},
   "outputs": [],
   "source": []
  }
 ],
 "metadata": {
  "kernelspec": {
   "display_name": "Python 3 (ipykernel)",
   "language": "python",
   "name": "python3"
  },
  "language_info": {
   "codemirror_mode": {
    "name": "ipython",
    "version": 3
   },
   "file_extension": ".py",
   "mimetype": "text/x-python",
   "name": "python",
   "nbconvert_exporter": "python",
   "pygments_lexer": "ipython3",
   "version": "3.9.13"
  }
 },
 "nbformat": 4,
 "nbformat_minor": 5
}
